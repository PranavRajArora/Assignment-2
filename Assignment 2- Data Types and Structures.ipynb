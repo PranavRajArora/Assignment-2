{
 "cells": [
  {
   "cell_type": "raw",
   "id": "e40fe3c5-a9a3-430d-94b9-344a7e0a8df7",
   "metadata": {},
   "source": [
    "###\n",
    "Q.1 What are data structures, and why are they important?\n",
    "A.1. It is a way of organizing and storing data so that it can be accessed and manipulated efficiently.\n",
    "There are 6 different types of Data Structures:\n",
    "String, Set, List, Dictionary, Tuple, Array.\n",
    "Each data structure has its own functionality and benefits.\n",
    "a. String- it is a ordered and immutable sequence of charecters.  It is used to represent and manipulate text.\n",
    "b. Set- It is an unordered collection of unique elements. Sets are mutable in nature. It is widely used to remove duplicacy.\n",
    "c. List- It is an ordered collection of elements. It is mutable in nature. It is used to store a sequence of elements(can be duplicate). It is useful for indexing and iterating through a sequence.\n",
    "d. Tuple- It is an immutable and ordered collection of elements. It is used in situations where the data should not be changed.\n",
    "e. Dictionary- It is an unordered collection of elements stored in a key-value pair.\n",
    "f. Array- Arrays are similar to lists but are widely used to store large number of similar data types(Mostly numeric).\n",
    "###"
   ]
  },
  {
   "cell_type": "raw",
   "id": "40274876-e906-443f-b235-cc53b32123a2",
   "metadata": {},
   "source": [
    "###\n",
    "Q2. Explain the difference between mutable and immutable data types with examplesP\n",
    "A.2. Mutable data structures are the types where in a data once assigned can be changed , whereas an immutable data structure is one where the data cannot be changed or manipulated.\n",
    "Examples are below\n",
    "###\n"
   ]
  },
  {
   "cell_type": "code",
   "execution_count": 13,
   "id": "a0ceb133-1a76-4407-b088-010ade96ef92",
   "metadata": {},
   "outputs": [
    {
     "ename": "TypeError",
     "evalue": "'tuple' object does not support item assignment",
     "output_type": "error",
     "traceback": [
      "\u001b[31m---------------------------------------------------------------------------\u001b[39m",
      "\u001b[31mTypeError\u001b[39m                                 Traceback (most recent call last)",
      "\u001b[36mCell\u001b[39m\u001b[36m \u001b[39m\u001b[32mIn[13]\u001b[39m\u001b[32m, line 2\u001b[39m\n\u001b[32m      1\u001b[39m a= (\u001b[32m10\u001b[39m,\u001b[32m20\u001b[39m,\u001b[32m30\u001b[39m) \u001b[38;5;66;03m#here the Tuple is assigned to \"a\"\u001b[39;00m\n\u001b[32m----> \u001b[39m\u001b[32m2\u001b[39m \u001b[43ma\u001b[49m\u001b[43m[\u001b[49m\u001b[32;43m0\u001b[39;49m\u001b[43m]\u001b[49m= \u001b[32m40\u001b[39m \u001b[38;5;66;03m#here we are attempting to assign the value of the 0th index with 40\u001b[39;00m\n\u001b[32m      3\u001b[39m a \u001b[38;5;66;03m#when we execute the code, it will throw an error since tuples are immutable\u001b[39;00m\n",
      "\u001b[31mTypeError\u001b[39m: 'tuple' object does not support item assignment"
     ]
    }
   ],
   "source": [
    "a= (10,20,30) #here the Tuple is assigned to \"a\"\n",
    "a[0]= 40 #here we are attempting to assign the value of the 0th index with 40\n",
    "a #when we execute the code, it will throw an error since tupeles are immutable"
   ]
  },
  {
   "cell_type": "code",
   "execution_count": 14,
   "id": "f3a19aee-101c-41e9-adcb-92b9571e5388",
   "metadata": {},
   "outputs": [
    {
     "data": {
      "text/plain": [
       "[40, 20, 30]"
      ]
     },
     "execution_count": 14,
     "metadata": {},
     "output_type": "execute_result"
    }
   ],
   "source": [
    "a= [10,20,30] #here the list is assigned to \"a\"\n",
    "a[0]= 40 #here we are replacing the value of the 0th index with 40\n",
    "a #when we execute the code, now the data in the list will change, as List is mutable"
   ]
  },
  {
   "cell_type": "raw",
   "id": "d53b8db7-e124-4a26-b8e0-c0abf5ff8281",
   "metadata": {},
   "source": [
    "###\n",
    "Q.3. What are the main differences between lists and tuples in Python?\n",
    "List-\n",
    "a. They are mutable in nature\n",
    "b. Represented as []\n",
    "c. Used when data can be changed\n",
    "d. They have a lot of functions such as .append, .remove.\n",
    "Tuple-\n",
    "a.They are immutable in nature.\n",
    "b. Represented as ()\n",
    "c. Used when data should not be changed.\n",
    "d. They have restricted functions since they are immutable.\n",
    "###"
   ]
  },
  {
   "cell_type": "code",
   "execution_count": 15,
   "id": "1a777074-da5f-4f14-bf66-4c1c2db29860",
   "metadata": {},
   "outputs": [
    {
     "data": {
      "text/plain": [
       "{'Name': 'Pranav', 'Age': '31', 'Gender': 'Male'}"
      ]
     },
     "execution_count": 15,
     "metadata": {},
     "output_type": "execute_result"
    }
   ],
   "source": [
    "###Q.4. Describe how dictionaries store data?\n",
    "#A.4. Dictionaries store data in key value pair. Example:\n",
    "###\n",
    "dict1= {\"Name\": \"Pranav\", \"Age\": \"31\", \"Gender\": \"Male\"}\n",
    "dict1"
   ]
  },
  {
   "cell_type": "code",
   "execution_count": 16,
   "id": "b0532c0a-6109-4f05-bbff-5ba3c96558df",
   "metadata": {},
   "outputs": [
    {
     "data": {
      "text/plain": [
       "dict"
      ]
     },
     "execution_count": 16,
     "metadata": {},
     "output_type": "execute_result"
    }
   ],
   "source": [
    "type(dict1)"
   ]
  },
  {
   "cell_type": "code",
   "execution_count": 25,
   "id": "23089e74-8c4d-46d2-9f1d-de10a425ac02",
   "metadata": {},
   "outputs": [
    {
     "data": {
      "text/plain": [
       "dict_keys(['Name', 'Age', 'Gender'])"
      ]
     },
     "execution_count": 25,
     "metadata": {},
     "output_type": "execute_result"
    }
   ],
   "source": [
    "dict1.keys() #this will show all the keys in the dictionary"
   ]
  },
  {
   "cell_type": "code",
   "execution_count": 27,
   "id": "f22e1bd9-3645-41e1-9048-56bf33b0b4d0",
   "metadata": {},
   "outputs": [
    {
     "data": {
      "text/plain": [
       "dict_values(['Pranav', '31', 'Male'])"
      ]
     },
     "execution_count": 27,
     "metadata": {},
     "output_type": "execute_result"
    }
   ],
   "source": [
    "dict1.values() #this will show the value of all the keys in the dictionary"
   ]
  },
  {
   "cell_type": "raw",
   "id": "352b467e-0e7e-4422-8797-fe8b6f28ae3b",
   "metadata": {},
   "source": [
    "##\n",
    "Q.5. Why might you use a set instead of a list in Python?\n",
    "A.5. Sets store unique items and remove any duplicate data from an entry, whereas Lists store any and all data, even if there are duplicates. \n",
    "Sets are fater than lists when searching for a data entry. Sets also support carrying out of mathematical operations and comparing data. \n",
    "##"
   ]
  },
  {
   "cell_type": "raw",
   "id": "6c3cc1ea-2dbd-41d8-856d-5a31a2b2770a",
   "metadata": {},
   "source": [
    "##\n",
    "Q.6. What is a string in Python, and how is it different from a list?\n",
    "A.6. While both strings and lists in Python serve as ordered sequences, their fundamental distinction lies in mutability and data type. A string is an immutable sequence designed for characters; once created, its contents cannot be changed. A list is a mutable sequence that can hold elements of any data type, allowing for maipulation, addition, and removal of its items. Both support indexing and slicing for accessing elements. However, strings possess specialized text-manipulation methods (e.g., .upper(), .split(), .replace()), whereas lists offer methods for structural changes (e.g., .append(), .pop(), .sort()).\n",
    "##"
   ]
  },
  {
   "cell_type": "raw",
   "id": "c5ff4bbd-f108-4d07-8b49-302d0393bafe",
   "metadata": {},
   "source": [
    "##\n",
    "Q.7.  How do tuples ensure data integrity in Python?\n",
    "A.7. Tuples are immutable, meaning that once a tuple has been created, no changes can be made to it, accidental or intentional. Hence, tuples preserve the integrity of the data by being being a data structure where consistency and reliability are important.\n",
    "##"
   ]
  },
  {
   "cell_type": "raw",
   "id": "b6812277-7083-486a-8d2c-b26a4e7e41ac",
   "metadata": {},
   "source": [
    "###\n",
    "Q.8. What is a hash table, and how does it relate to dictionaries in Python?\n",
    "A.8. In Python, a dictionary is a high-level implementation of a hash table that stores data as key-value pairs. It uses a hash function to map each key to a specific position in an internal array, enabling quick access to values by their keys. Operations such as retrieval, insertion, or deletion leverage the key’s hash to efficiently locate the associated value. The underlying hash table manages collisions—when multiple keys hash to the same index—and automatically resizes to preserve performance. This design makes dictionaries a versatile and efficient data management tool in Python programs.\n",
    "###\n"
   ]
  },
  {
   "cell_type": "raw",
   "id": "0db5fe9c-6f24-4462-b591-50de491a5f59",
   "metadata": {},
   "source": [
    "###\n",
    "Q.9.Can lists contain different data types in Python?\n",
    "A.9. Yes, Lists in python can contain heterogenous data, ranging from numericals, to alphabets, comlex equations, etc. There is no set value that a List can store.\n",
    "###"
   ]
  },
  {
   "cell_type": "raw",
   "id": "e9f3b6c9-be67-448f-8ed4-d5a17c293d0e",
   "metadata": {},
   "source": [
    "###\n",
    "Q.10. Explain why strings are immutable in python?\n",
    "A.10. Strings in python are immutable meaning that once a string has been created it cannot be altered or manipulated individually or by indexing. A new string has to be created to replace the old string by using the syntax {.replace()}. This syntax however does not change the original string bet retruns the value of the new string created.\n",
    "###."
   ]
  },
  {
   "cell_type": "raw",
   "id": "a4f2b868-d613-4246-99c7-c5f7cb57cc06",
   "metadata": {},
   "source": [
    "###\n",
    "Q.11.What advantages do dictionaries offer over lists for certain tasks?\n",
    "A.11. Dictionaries are more useful than Lists in certain area where we need to work with key value pairs and need faster lookup. \n",
    "a. Easy to update- In an environment where the data changes constantly, it is easier to update the data using a disctionary since relying on Keys in easier than indexing of a list.\n",
    "b. Positioning- In a list, a user needs to remember of recall the position of an element whereas in a dicitionary, it can be called by the Key.\n",
    "c. Flexibility: Dictionaries are ideal for representing structured data, such as records or configurations, where each piece of data has a label unlike lists where the data is arranged one after the other without any established relation.\n",
    "###"
   ]
  },
  {
   "cell_type": "raw",
   "id": "fc5b381e-04bb-4f00-9cf8-840133906460",
   "metadata": {},
   "source": [
    "###Q.12. Describe a scenario where using a tuple would be preferable over a list?\n",
    "A.12. A tuple is useful in cases where the data should not and cannot be changed. For example, if a user needs to store the data such as employee ID, Identification numbers or any such data which is unique in charecter and cannot be used to represent any other element.\n",
    "###"
   ]
  },
  {
   "cell_type": "code",
   "execution_count": 1,
   "id": "aba5273b-cf18-4307-937c-43e26e1a79a0",
   "metadata": {},
   "outputs": [
    {
     "data": {
      "text/plain": [
       "{1, 2, 3, 4, 5, 6, 7, 8, 9, 10}"
      ]
     },
     "execution_count": 1,
     "metadata": {},
     "output_type": "execute_result"
    }
   ],
   "source": [
    "###Q.13. How do sets handle duplicate values in Python?\n",
    "#A.13. Sets are a very type of Data Structure in python, the only store unique elements, which eradicates duplicates and redundancy. \n",
    "a={1,1,1,2,2,3,4,5,6,6,7,8,8,9,10}\n",
    "a# when we run this, we can see only the unique elements, instead of how many times they have been repeated."
   ]
  },
  {
   "cell_type": "raw",
   "id": "0b10fda3-733d-4639-9e93-a8482885dcb1",
   "metadata": {},
   "source": [
    "###Q.14.  How does the “in” keyword work differently for lists and dictionaries?\n",
    "A.14. The 'in' keyword in python is a membership operator which is used to check if a certain element is present or not. However, it is a little different of how it is used in a List and in a dictionary. In a list, the in keyword is used to check if a specific criteria or element is present in the list whereas in a dictionary it checks for only KEYs and not values.\n",
    "###\n"
   ]
  },
  {
   "cell_type": "code",
   "execution_count": 8,
   "id": "d62c077c-9795-4c6c-b49f-7a68442801c4",
   "metadata": {},
   "outputs": [
    {
     "ename": "TypeError",
     "evalue": "'tuple' object does not support item assignment",
     "output_type": "error",
     "traceback": [
      "\u001b[31m---------------------------------------------------------------------------\u001b[39m",
      "\u001b[31mTypeError\u001b[39m                                 Traceback (most recent call last)",
      "\u001b[36mCell\u001b[39m\u001b[36m \u001b[39m\u001b[32mIn[8]\u001b[39m\u001b[32m, line 4\u001b[39m\n\u001b[32m      1\u001b[39m \u001b[38;5;66;03m###Q.15. Can you modify the elements of a tuple? Explain why or why not?\u001b[39;00m\n\u001b[32m      2\u001b[39m \u001b[38;5;66;03m#A.15. A tuple in python is immutable, it cannot be changed once it has been created. It is designed in such way to make sure that no changes can be made intentionally or by mistake and protect the integrity of data.\u001b[39;00m\n\u001b[32m      3\u001b[39m a=(\u001b[33m\"\u001b[39m\u001b[33mArpit\u001b[39m\u001b[33m\"\u001b[39m, \u001b[33m\"\u001b[39m\u001b[33mEmployee\u001b[39m\u001b[33m\"\u001b[39m, \u001b[33m\"\u001b[39m\u001b[33mID-104\u001b[39m\u001b[33m\"\u001b[39m)\n\u001b[32m----> \u001b[39m\u001b[32m4\u001b[39m \u001b[43ma\u001b[49m\u001b[43m[\u001b[49m\u001b[32;43m0\u001b[39;49m\u001b[43m]\u001b[49m= \u001b[33m\"\u001b[39m\u001b[33mAman\u001b[39m\u001b[33m\"\u001b[39m\u001b[38;5;66;03m# here in we can see that a tuple does not support item assignment, thus maintaining the integrity of the data.\u001b[39;00m\n\u001b[32m      5\u001b[39m \u001b[38;5;66;03m#however, if there is a mutable element within a tuple, it can be modified\u001b[39;00m\n",
      "\u001b[31mTypeError\u001b[39m: 'tuple' object does not support item assignment"
     ]
    }
   ],
   "source": [
    "###Q.15. Can you modify the elements of a tuple? Explain why or why not?\n",
    "#A.15. A tuple in python is immutable, it cannot be changed once it has been created. It is designed in such way to make sure that no changes can be made intentionally or by mistake and protect the integrity of data.\n",
    "a=(\"Arpit\", \"Employee\", \"ID-104\")\n",
    "a[0]= \"Aman\"# here in we can see that a tuple does not support item assignment, thus maintaining the integrity of the data.\n"
   ]
  },
  {
   "cell_type": "code",
   "execution_count": 13,
   "id": "4a9757da-19a5-4850-9941-64f005c03b6b",
   "metadata": {},
   "outputs": [
    {
     "data": {
      "text/plain": [
       "('Arpit', 'Employee', [25, 12], 'ID-104')"
      ]
     },
     "execution_count": 13,
     "metadata": {},
     "output_type": "execute_result"
    }
   ],
   "source": [
    "#however, if there is a mutable element within a tuple, the elements within it can be modified\n",
    "b=(\"Arpit\", \"Employee\", [47, 12], \"ID-104\")\n",
    "b[2][0]= 25\n",
    "b\n"
   ]
  },
  {
   "cell_type": "raw",
   "id": "3084b703-64b0-4eba-93a9-cd5f9bc78db4",
   "metadata": {},
   "source": [
    "###Q.16. What is a nested dictionary, and give an example of its use case?\n",
    "A.16. The word nested typically means one-within-another. A nested dictionary is one where there is one or more values are dictionaries within another dictionary. It enables an user to store hiearchical data in a systemized way.\n",
    "In the below example, we can see that the primary dictionary is labeled as class_a, which within it has nested dictionaries termed Raj, Monica, Aman; which within them contains the key value pair of data pertaining to each dictionary (Raj, monica, aman).\n",
    "###"
   ]
  },
  {
   "cell_type": "code",
   "execution_count": 15,
   "id": "d4c4daf8-bbc9-43cf-9762-43db3761551b",
   "metadata": {},
   "outputs": [],
   "source": [
    "class_a={\n",
    "    \"Raj\":{\"age\":31, \"gender\": \"male\"},\n",
    "    \"Monica\":{\"age\":\"30\", \"gender\":\"female\"},\n",
    "    \"Aman\":{\"age\":30, \"gender\":\"male\"}\n",
    "}\n",
    "print(class_a[\"Raj\"])"
   ]
  },
  {
   "cell_type": "raw",
   "id": "4ee3c90b-443e-49b1-bb5b-8da0355ffdb3",
   "metadata": {},
   "source": [
    "###Q.17. Describe the time complexity of accessing elements in a dictionary?\n",
    "A.17. The time complexity of accessing elements in a dictionary (also known as a hash map) in Python is:\n",
    "Average Case: O(1)\n",
    "Dictionaries in Python are implemented using hash tables.\n",
    "Accessing an element by key typically takes constant time, because the key is hashed to find the location in memory directly.\n",
    "Worst Case: O(n)\n",
    "This can happen in rare cases due to hash collisions.\n",
    "When many keys hash to the same location, they’re stored in a structure (nested, like a tree and its branches), which may require scanning multiple elements.\n",
    "Python uses strategies like open addressing and dynamic resizing to minimize this.\n",
    "###"
   ]
  },
  {
   "cell_type": "raw",
   "id": "3abbc523-64c5-4703-b645-6afff7ec36b0",
   "metadata": {},
   "source": [
    "###q.18. In what situations are lists preferred over dictionaries?\n",
    "A.18. Dictionaries help in storing a large amount of data and can be accessed easily, but Lists are benefical in some cases where:\n",
    "a. The order of the data is essential to be followed.\n",
    "b. No need to label each item with unique keys, i.e, the data is a simple set of elements.\n",
    "c. There needs to be duplicate entries, since Lists allow duplicate data to be stored while dictionary need to have unique keys.\n",
    "d. It helps in the interation of the sequence of data.\n",
    "###\n",
    "    "
   ]
  },
  {
   "cell_type": "raw",
   "id": "e32ced58-c4cc-4f13-8b56-711526869526",
   "metadata": {},
   "source": [
    "###Q.19.Why are dictionaries considered unordered, and how does that affect data retrieval?\n",
    "A.19. Dictionaries in python are typically considered to be unordered since the key- value pairs do not maintain a specific order. A user will not get a return value of the order of the data in which he has inserted the data.\n",
    "1. Indexing- Indexing is not possible in Dictionaries (dict1[0]), as they work on being called by the key word and a user cannot call the 1st or last element.\n",
    "2. Iteration- Since indexing is not possible, a user cannot print the elements one after another. They can either call the entire dictionary or a specific segment based on the key-value data.\n",
    "###\n"
   ]
  },
  {
   "cell_type": "raw",
   "id": "1ef4e0be-1c5e-4f71-95cf-c7b072985b51",
   "metadata": {},
   "source": [
    "###q.20.  Explain the difference between a list and a dictionary in terms of data retrieval.\n",
    "A.20. List: \n",
    "Ordered, Index-Based Retrieval\n",
    "Structure: A list is a sequence of items.\n",
    "Access: You retrieve data using integer indexes (positions).\n",
    "Order matters: The order of elements is preserved.\n",
    "Dictionary: Key-Based Retrieval\n",
    "Structure: A dictionary is a collection of key-value pairs.\n",
    "Access: You retrieve data using unique keys, not positions.\n",
    "Order (in Python 3.7+): Maintains insertion order but not indexable.\n",
    "###"
   ]
  },
  {
   "cell_type": "code",
   "execution_count": null,
   "id": "77263217-68ba-49b3-81a1-908566384722",
   "metadata": {},
   "outputs": [],
   "source": []
  },
  {
   "cell_type": "code",
   "execution_count": null,
   "id": "b6a47dfb-92c2-4a62-8ee7-ac777da4151a",
   "metadata": {},
   "outputs": [],
   "source": []
  },
  {
   "cell_type": "code",
   "execution_count": 2,
   "id": "81c9053c-1dae-47fe-9a34-ca5798c88afe",
   "metadata": {},
   "outputs": [],
   "source": [
    "##PRACTICAL QUESTIONS##\n"
   ]
  },
  {
   "cell_type": "code",
   "execution_count": 3,
   "id": "a78c1688-0285-4d42-9a85-be0a28f63921",
   "metadata": {},
   "outputs": [
    {
     "name": "stdout",
     "output_type": "stream",
     "text": [
      "Pranav Arora\n"
     ]
    }
   ],
   "source": [
    "#Q.1. Write a code to create a string with your name and print it?\n",
    "string1= \"Pranav Arora\"\n",
    "print(string1)"
   ]
  },
  {
   "cell_type": "code",
   "execution_count": 4,
   "id": "82af770f-9e71-42d8-81a2-1a673da7f5b3",
   "metadata": {},
   "outputs": [
    {
     "data": {
      "text/plain": [
       "11"
      ]
     },
     "execution_count": 4,
     "metadata": {},
     "output_type": "execute_result"
    }
   ],
   "source": [
    "#Q.2. Write a code to find the length of the string \"Hello World\"?\n",
    "string2= (\"Hello World\")\n",
    "len(string2)"
   ]
  },
  {
   "cell_type": "code",
   "execution_count": 5,
   "id": "da1c3d86-736b-4bf3-bbfd-01482628e03c",
   "metadata": {},
   "outputs": [
    {
     "data": {
      "text/plain": [
       "'Pyt'"
      ]
     },
     "execution_count": 5,
     "metadata": {},
     "output_type": "execute_result"
    }
   ],
   "source": [
    "#Q.3. Write a code to slice the first 3 characters from the string \"Python Programming\"\n",
    "str1= (\"Python programming\")\n",
    "str1[0:3] #since the end point is exclusive"
   ]
  },
  {
   "cell_type": "code",
   "execution_count": 10,
   "id": "9f683f54-3ed5-4d65-80ee-ba2099dca5b6",
   "metadata": {},
   "outputs": [
    {
     "data": {
      "text/plain": [
       "'HELLO'"
      ]
     },
     "execution_count": 10,
     "metadata": {},
     "output_type": "execute_result"
    }
   ],
   "source": [
    "#Q.4. Write a code to convert the string \"hello\" to uppercase.\n",
    "str2=\"hello\"\n",
    "a= str2.upper()\n",
    "a"
   ]
  },
  {
   "cell_type": "code",
   "execution_count": 16,
   "id": "69d6175a-dc18-4c1d-8a13-7bc0102a1df5",
   "metadata": {},
   "outputs": [
    {
     "name": "stdout",
     "output_type": "stream",
     "text": [
      "I like orange\n"
     ]
    }
   ],
   "source": [
    "#Q.5. Write a code to replace the word \"apple\" with \"orange\" in the string \"I like apple\".\n",
    "str2= \"I like apple\"\n",
    "a= str2.replace(\"apple\", \"orange\")\n",
    "print(a)"
   ]
  },
  {
   "cell_type": "code",
   "execution_count": 18,
   "id": "28c7dd79-4a1b-47b9-85df-62a336f3fb69",
   "metadata": {},
   "outputs": [
    {
     "name": "stdout",
     "output_type": "stream",
     "text": [
      "[1, 2, 3, 4, 5]\n"
     ]
    }
   ],
   "source": [
    "#q.6. Write a code to create a list with numbers 1 to 5 and print it.\n",
    "#1 way \n",
    "list1=[1,2,3,4,5]\n",
    "print(list1)\n"
   ]
  },
  {
   "cell_type": "code",
   "execution_count": 28,
   "id": "63cd4487-be32-47b1-831b-c0a7468be8a4",
   "metadata": {},
   "outputs": [
    {
     "data": {
      "text/plain": [
       "[1, 2, 3, 4, 10]"
      ]
     },
     "execution_count": 28,
     "metadata": {},
     "output_type": "execute_result"
    }
   ],
   "source": [
    "#Q.7. Write a code to append the number 10 to the list [1, 2, 3, 4]\n",
    "#A.7\n",
    "list1= [1,2,3,4]\n",
    "list1.append(10)\n",
    "list1"
   ]
  },
  {
   "cell_type": "code",
   "execution_count": 36,
   "id": "d9ac29f7-becc-4cfd-a371-9c3dcb85c2fa",
   "metadata": {},
   "outputs": [
    {
     "data": {
      "text/plain": [
       "[1, 2, 4, 5]"
      ]
     },
     "execution_count": 36,
     "metadata": {},
     "output_type": "execute_result"
    }
   ],
   "source": [
    "#q.8. Write a code to remove the number 3 from the list [1, 2, 3, 4, 5]\n",
    "#A.8.\n",
    "list1= [1,2,3,4,5]\n",
    "list1.remove(3)\n",
    "list1"
   ]
  },
  {
   "cell_type": "code",
   "execution_count": 38,
   "id": "875c32a2-8cd8-4fa7-83d7-ff80cfea627d",
   "metadata": {},
   "outputs": [
    {
     "data": {
      "text/plain": [
       "'b'"
      ]
     },
     "execution_count": 38,
     "metadata": {},
     "output_type": "execute_result"
    }
   ],
   "source": [
    "#Q.9 Write a code to access the second element in the list ['a', 'b', 'c', 'd'].\n",
    "lis_1= ['a', 'b', 'c', 'd']\n",
    "lis_1[1] #this will access the charecter in the 2nd index\n"
   ]
  },
  {
   "cell_type": "code",
   "execution_count": 39,
   "id": "140287b9-d6af-4660-a15f-d5cf010071fe",
   "metadata": {},
   "outputs": [
    {
     "data": {
      "text/plain": [
       "[50, 40, 30, 20, 10]"
      ]
     },
     "execution_count": 39,
     "metadata": {},
     "output_type": "execute_result"
    }
   ],
   "source": [
    "#Q.10. Write a code to reverse the list [10, 20, 30, 40, 50].\n",
    "list1= [10, 20, 30, 40, 50]\n",
    "list1[::-1] "
   ]
  },
  {
   "cell_type": "code",
   "execution_count": 40,
   "id": "3828d90b-4ca1-4c4c-b897-020eafb09130",
   "metadata": {},
   "outputs": [
    {
     "data": {
      "text/plain": [
       "tuple"
      ]
     },
     "execution_count": 40,
     "metadata": {},
     "output_type": "execute_result"
    }
   ],
   "source": [
    "#q.11 Write a code to create a tuple with the elements 100, 200, 300 and print it.\n",
    "#A.11\n",
    "tup1= (100,200,300)\n",
    "type(tup1)\n"
   ]
  },
  {
   "cell_type": "code",
   "execution_count": 42,
   "id": "e64f68a5-c88e-42c1-a877-ed1e9bf20fe8",
   "metadata": {},
   "outputs": [
    {
     "data": {
      "text/plain": [
       "(100, 200, 300)"
      ]
     },
     "execution_count": 42,
     "metadata": {},
     "output_type": "execute_result"
    }
   ],
   "source": [
    "tup1"
   ]
  },
  {
   "cell_type": "code",
   "execution_count": 44,
   "id": "dbfeab09-f1ff-4239-bec4-47769dfbdc42",
   "metadata": {},
   "outputs": [
    {
     "data": {
      "text/plain": [
       "'blue'"
      ]
     },
     "execution_count": 44,
     "metadata": {},
     "output_type": "execute_result"
    }
   ],
   "source": [
    "#Q.12. Write a code to access the second-to-last element of the tuple ('red', 'green', 'blue', 'yellow').\n",
    "#A.12. \n",
    "tup2= (\"red\", \"green\", \"blue\", \"yellow\")\n",
    "tup2[-2]\n"
   ]
  },
  {
   "cell_type": "code",
   "execution_count": 51,
   "id": "ae66ab1f-729a-4c79-8ce5-e54a1ce23aad",
   "metadata": {},
   "outputs": [
    {
     "data": {
      "text/plain": [
       "5"
      ]
     },
     "execution_count": 51,
     "metadata": {},
     "output_type": "execute_result"
    }
   ],
   "source": [
    "#q.13.  Write a code to find the minimum number in the tuple (10, 20, 5, 15).\n",
    "tupl= (10, 20, 5, 15)\n",
    "a= min(tupl)\n",
    "a"
   ]
  },
  {
   "cell_type": "code",
   "execution_count": 56,
   "id": "1d8614c8-b836-479b-a9dd-57ddd4d9fd8f",
   "metadata": {},
   "outputs": [
    {
     "name": "stdout",
     "output_type": "stream",
     "text": [
      "Index of 'cat': 1\n"
     ]
    }
   ],
   "source": [
    "#Q.14. Write a code to find the index of the element \"cat\" in the tuple ('dog', 'cat', 'rabbit').\n",
    "animals = ('dog', 'cat', 'rabbit')\n",
    "a = animals.index('cat')\n",
    "print(\"Index of 'cat':\", a)"
   ]
  },
  {
   "cell_type": "code",
   "execution_count": 63,
   "id": "7686ce69-6eeb-46f2-857e-4861c164a3a7",
   "metadata": {},
   "outputs": [
    {
     "name": "stdout",
     "output_type": "stream",
     "text": [
      "It is there\n"
     ]
    }
   ],
   "source": [
    "#Q.15. Write a code to create a tuple containing three different fruits and check if \"kiwi\" is in it.\n",
    "fruits= (\"kiwi\", \"apple\", \"banana\")\n",
    "if \"kiwi\" in fruits:\n",
    "        print(\"It is there\")\n",
    "else:\n",
    "        print(\"It is not there\")"
   ]
  },
  {
   "cell_type": "code",
   "execution_count": 64,
   "id": "f89c0006-d456-4c14-915c-e7944fd50b23",
   "metadata": {},
   "outputs": [
    {
     "data": {
      "text/plain": [
       "set"
      ]
     },
     "execution_count": 64,
     "metadata": {},
     "output_type": "execute_result"
    }
   ],
   "source": [
    "#Q.16. Write a code to create a set with the elements 'a', 'b', 'c' and print it.\n",
    "set1= {\"a\", \"b\", \"c\"}\n",
    "type(set1)"
   ]
  },
  {
   "cell_type": "code",
   "execution_count": 67,
   "id": "68331f3f-afea-4d42-bc95-a46cadff874e",
   "metadata": {},
   "outputs": [
    {
     "name": "stdout",
     "output_type": "stream",
     "text": [
      "set()\n"
     ]
    }
   ],
   "source": [
    "#Q.17. Write a code to clear all elements from the set {1, 2, 3, 4, 5}.\n",
    "set1= {1, 2, 3, 4, 5}\n",
    "set1.clear()\n",
    "print(set1)"
   ]
  },
  {
   "cell_type": "code",
   "execution_count": 70,
   "id": "e884d0b3-78d1-4424-a856-118ce4a6c05f",
   "metadata": {},
   "outputs": [
    {
     "name": "stdout",
     "output_type": "stream",
     "text": [
      "{1, 2, 3}\n"
     ]
    }
   ],
   "source": [
    "#Q.18. Write a code to remove the element 4 from the set {1, 2, 3, 4}.\n",
    "set1= {1, 2, 3, 4}\n",
    "set1.remove(4)\n",
    "print(set1)"
   ]
  },
  {
   "cell_type": "code",
   "execution_count": 73,
   "id": "3a1ca40c-3adc-4732-8cd8-b447cddd8df3",
   "metadata": {},
   "outputs": [
    {
     "name": "stdout",
     "output_type": "stream",
     "text": [
      "The union is : {1, 2, 3, 4, 5}\n"
     ]
    }
   ],
   "source": [
    "#Q.19. Write a code to find the union of two sets {1, 2, 3} and {3, 4, 5}.\n",
    "set1= {1, 2, 3}\n",
    "set2= {3, 4, 5}\n",
    "print(\"The union is :\", set1|set2)"
   ]
  },
  {
   "cell_type": "code",
   "execution_count": 74,
   "id": "65d7b3ae-9aba-4712-9d56-c96e27f30ad3",
   "metadata": {},
   "outputs": [
    {
     "name": "stdout",
     "output_type": "stream",
     "text": [
      "The intersection of the sets is : {2, 3}\n"
     ]
    }
   ],
   "source": [
    "#Q.20. Write a code to find the intersection of two sets {1, 2, 3} and {2, 3, 4}.\n",
    "set1= {1, 2, 3}\n",
    "set2= {2, 3, 4}\n",
    "print(\"The intersection of the sets is :\", set1&set2)"
   ]
  },
  {
   "cell_type": "code",
   "execution_count": 76,
   "id": "f82784c0-92f6-4990-ac8f-8cc23c586d06",
   "metadata": {},
   "outputs": [
    {
     "name": "stdout",
     "output_type": "stream",
     "text": [
      "The contents of the dictionary are:  {'name': 'Pranav', 'age': '31', 'City': 'Kolkata'}\n"
     ]
    }
   ],
   "source": [
    "#Q.21. Write a code to create a dictionary with the keys \"name\", \"age\", and \"city\", and print it.\n",
    "dict1={\"name\": \"Pranav\", \"age\": \"31\", \"City\": \"Kolkata\"}\n",
    "print(\"The contents of the dictionary are: \", dict1)\n"
   ]
  },
  {
   "cell_type": "code",
   "execution_count": 86,
   "id": "367a161a-ae05-4e42-a363-b1e08970101e",
   "metadata": {},
   "outputs": [
    {
     "name": "stdout",
     "output_type": "stream",
     "text": [
      "{'name': 'John', 'age': 25, 'country': 'USA'}\n"
     ]
    }
   ],
   "source": [
    "#Q.22. Write a code to add a new key-value pair \"country\": \"USA\" to the dictionary {'name': 'John', 'age': 25}.\n",
    "dict1={'name': 'John', 'age': 25}\n",
    "dict1[\"country\"]= \"USA\"\n",
    "print(dict1)"
   ]
  },
  {
   "cell_type": "code",
   "execution_count": 94,
   "id": "fa7e6f54-39ca-4d0c-8a9b-56be6d24776b",
   "metadata": {},
   "outputs": [
    {
     "data": {
      "text/plain": [
       "'Alice'"
      ]
     },
     "execution_count": 94,
     "metadata": {},
     "output_type": "execute_result"
    }
   ],
   "source": [
    "#Q.23. Write a code to access the value associated with the key \"name\" in the dictionary {'name': 'Alice', 'age': 30}.\n",
    "dict1= {'name': 'Alice', 'age': 30}\n",
    "dict1.get('name')\n"
   ]
  },
  {
   "cell_type": "code",
   "execution_count": 100,
   "id": "95015d29-cd6d-4053-a878-e60ad412fc5f",
   "metadata": {},
   "outputs": [
    {
     "name": "stdout",
     "output_type": "stream",
     "text": [
      "{'name': 'Bob', 'city': 'New York'}\n"
     ]
    }
   ],
   "source": [
    "#Q. 24. Write a code to remove the key \"age\" from the dictionary {'name': 'Bob', 'age': 22, 'city': 'New York'}.\n",
    "\n",
    "dict1= {'name': 'Bob', 'age': 22, 'city': 'New York'}\n",
    "dict1.pop('age')\n",
    "print(dict1)"
   ]
  },
  {
   "cell_type": "code",
   "execution_count": 101,
   "id": "25e931ba-885d-4960-b8f5-17ad5162e0ed",
   "metadata": {},
   "outputs": [
    {
     "data": {
      "text/plain": [
       "True"
      ]
     },
     "execution_count": 101,
     "metadata": {},
     "output_type": "execute_result"
    }
   ],
   "source": [
    "#Q. 25. Write a code to check if the key \"city\" exists in the dictionary {'name': 'Alice', 'city': 'Paris'}.\n",
    "dict1= {'name': 'Alice', 'city': 'Paris'}\n",
    "\"city\" in dict1"
   ]
  },
  {
   "cell_type": "code",
   "execution_count": 102,
   "id": "e2eb8fdd-8fec-4f76-9f11-5d43acae9c7e",
   "metadata": {},
   "outputs": [
    {
     "name": "stdout",
     "output_type": "stream",
     "text": [
      "City info available\n"
     ]
    }
   ],
   "source": [
    "#OR\n",
    "dict1= {'name': 'Alice', 'city': 'Paris'}\n",
    "if \"city\" in dict1:\n",
    "    print(\"City info available\")\n",
    "else:\n",
    "    print(\"City info not available\")"
   ]
  },
  {
   "cell_type": "code",
   "execution_count": 109,
   "id": "2c108d60-7d86-467e-b0fb-233e7274350d",
   "metadata": {},
   "outputs": [
    {
     "name": "stdout",
     "output_type": "stream",
     "text": [
      "The list is : [1, 2, 3, 4, 4, 5]  The tuple is:  ('Ajay', 'Bijay', 'Sanjay') The Dictionary is:  {'Name': 'Ajay', 'City': 'Banagalore', 'Age': '33'}\n"
     ]
    }
   ],
   "source": [
    "#Q.26. Write a code to create a list, a tuple, and a dictionary, and print them all.\n",
    "\n",
    "list1= [1,2,3,4,4,5]\n",
    "tup1= (\"Ajay\", \"Bijay\", \"Sanjay\")\n",
    "dict1= {\"Name\":\"Ajay\", \"City\": \"Banagalore\", \"Age\": \"33\"}\n",
    "print(\"The list is :\",list1,\" The tuple is: \", tup1,\"The Dictionary is: \", dict1)\n",
    "\n"
   ]
  },
  {
   "cell_type": "code",
   "execution_count": 116,
   "id": "755d45da-faa9-44a2-b953-533d93e5ed1f",
   "metadata": {},
   "outputs": [
    {
     "name": "stdout",
     "output_type": "stream",
     "text": [
      "Sorted random numbers: [5, 14, 27, 31, 76]\n"
     ]
    }
   ],
   "source": [
    "#Q.27. Write a code to create a list of 5 random numbers between 1 and 100, sort it in ascending order, and print the result.(replaced)\n",
    "import random\n",
    "random_numbers = [random.randint(1, 100) for _ in range(5)]\n",
    "random_numbers.sort()\n",
    "print(\"Sorted random numbers:\", random_numbers)"
   ]
  },
  {
   "cell_type": "code",
   "execution_count": 118,
   "id": "b5138a4d-acd9-4ff7-ab21-a75a0a13da87",
   "metadata": {},
   "outputs": [
    {
     "name": "stdout",
     "output_type": "stream",
     "text": [
      "Element at third index: Monica\n"
     ]
    }
   ],
   "source": [
    "#Q.28. Write a code to create a list with strings and print the element at the third index.\n",
    "list1 = [\"Ajay\", \"Raj\", \"Bijay\", \"Monica\", \"Roy\"]\n",
    "print(\"Element at third index:\", list1[3])"
   ]
  },
  {
   "cell_type": "code",
   "execution_count": 120,
   "id": "38f43f41-45f6-4842-a627-bca04c0d7af5",
   "metadata": {},
   "outputs": [
    {
     "name": "stdout",
     "output_type": "stream",
     "text": [
      "The combined dictionary is:  {'name': 'Alice', 'city': 'Paris', 'Name': 'Ajay', 'City': 'Banagalore', 'Age': '33'}\n"
     ]
    }
   ],
   "source": [
    "#Q.29. Write a code to combine two dictionaries into one and print the result.\n",
    "dict1= {'name': 'Alice', 'city': 'Paris'}\n",
    "dict2= {\"Name\":\"Ajay\", \"City\": \"Banagalore\", \"Age\": \"33\"}\n",
    "dict1.update(dict2)\n",
    "print(\"The combined dictionary is: \", dict1)"
   ]
  },
  {
   "cell_type": "code",
   "execution_count": null,
   "id": "35b81834-f4e4-4407-b5f4-6a4f02796a2a",
   "metadata": {},
   "outputs": [],
   "source": [
    "#Q.30. Write a code to convert a list of strings into a set\n",
    "\n",
    "string1= (\"Ajay\", \"Bijay\", \"Ajay\", \"R\""
   ]
  }
 ],
 "metadata": {
  "kernelspec": {
   "display_name": "Python 3 (ipykernel)",
   "language": "python",
   "name": "python3"
  },
  "language_info": {
   "codemirror_mode": {
    "name": "ipython",
    "version": 3
   },
   "file_extension": ".py",
   "mimetype": "text/x-python",
   "name": "python",
   "nbconvert_exporter": "python",
   "pygments_lexer": "ipython3",
   "version": "3.13.2"
  }
 },
 "nbformat": 4,
 "nbformat_minor": 5
}
